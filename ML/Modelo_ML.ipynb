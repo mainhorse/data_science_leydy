{
 "cells": [
  {
   "cell_type": "markdown",
   "metadata": {},
   "source": [
    "## Modelo de ML"
   ]
  },
  {
   "cell_type": "code",
   "execution_count": null,
   "metadata": {},
   "outputs": [],
   "source": []
  },
  {
   "cell_type": "code",
   "execution_count": 1,
   "metadata": {},
   "outputs": [],
   "source": [
    "import pandas as pd\n",
    "import numpy as np\n",
    "import seaborn as sns\n",
    "import matplotlib.pyplot as plt\n",
    "from sklearn.feature_extraction.text import CountVectorizer, TfidfVectorizer\n",
    "from sklearn.metrics.pairwise import cosine_similarity\n",
    "from sklearn.metrics.pairwise import linear_kernel\n",
    "import nltk"
   ]
  },
  {
   "cell_type": "code",
   "execution_count": 2,
   "metadata": {},
   "outputs": [
    {
     "name": "stderr",
     "output_type": "stream",
     "text": [
      "[nltk_data] Downloading package stopwords to\n",
      "[nltk_data]     C:\\Users\\User\\AppData\\Roaming\\nltk_data...\n",
      "[nltk_data]   Package stopwords is already up-to-date!\n"
     ]
    },
    {
     "data": {
      "text/plain": [
       "True"
      ]
     },
     "execution_count": 2,
     "metadata": {},
     "output_type": "execute_result"
    }
   ],
   "source": [
    "nltk.download('stopwords')"
   ]
  },
  {
   "cell_type": "code",
   "execution_count": 3,
   "metadata": {},
   "outputs": [],
   "source": [
    "# Cargo los datos de las películas\\n\",\n",
    "df_movies = pd.read_csv(\"..\\Data\\movies_dataset_ETL.csv\")"
   ]
  },
  {
   "cell_type": "code",
   "execution_count": 4,
   "metadata": {},
   "outputs": [],
   "source": [
    "df_movies = df_movies[['overview', 'title']]"
   ]
  },
  {
   "cell_type": "code",
   "execution_count": 5,
   "metadata": {},
   "outputs": [
    {
     "data": {
      "text/html": [
       "<div>\n",
       "<style scoped>\n",
       "    .dataframe tbody tr th:only-of-type {\n",
       "        vertical-align: middle;\n",
       "    }\n",
       "\n",
       "    .dataframe tbody tr th {\n",
       "        vertical-align: top;\n",
       "    }\n",
       "\n",
       "    .dataframe thead th {\n",
       "        text-align: right;\n",
       "    }\n",
       "</style>\n",
       "<table border=\"1\" class=\"dataframe\">\n",
       "  <thead>\n",
       "    <tr style=\"text-align: right;\">\n",
       "      <th></th>\n",
       "      <th>overview</th>\n",
       "      <th>title</th>\n",
       "    </tr>\n",
       "  </thead>\n",
       "  <tbody>\n",
       "    <tr>\n",
       "      <th>0</th>\n",
       "      <td>0</td>\n",
       "      <td>Midnight Man</td>\n",
       "    </tr>\n",
       "    <tr>\n",
       "      <th>1</th>\n",
       "      <td>0</td>\n",
       "      <td>Mardock Scramble: The Third Exhaust</td>\n",
       "    </tr>\n",
       "    <tr>\n",
       "      <th>2</th>\n",
       "      <td>Taisto Kasurinen is a Finnish coal miner whose...</td>\n",
       "      <td>Ariel</td>\n",
       "    </tr>\n",
       "    <tr>\n",
       "      <th>3</th>\n",
       "      <td>An episode in the life of Nikander, a garbage ...</td>\n",
       "      <td>Shadows in Paradise</td>\n",
       "    </tr>\n",
       "    <tr>\n",
       "      <th>4</th>\n",
       "      <td>0</td>\n",
       "      <td>Avalanche Sharks</td>\n",
       "    </tr>\n",
       "  </tbody>\n",
       "</table>\n",
       "</div>"
      ],
      "text/plain": [
       "                                            overview  \\\n",
       "0                                                  0   \n",
       "1                                                  0   \n",
       "2  Taisto Kasurinen is a Finnish coal miner whose...   \n",
       "3  An episode in the life of Nikander, a garbage ...   \n",
       "4                                                  0   \n",
       "\n",
       "                                 title  \n",
       "0                         Midnight Man  \n",
       "1  Mardock Scramble: The Third Exhaust  \n",
       "2                                Ariel  \n",
       "3                  Shadows in Paradise  \n",
       "4                     Avalanche Sharks  "
      ]
     },
     "execution_count": 5,
     "metadata": {},
     "output_type": "execute_result"
    }
   ],
   "source": [
    "df_movies.head()"
   ]
  },
  {
   "cell_type": "code",
   "execution_count": 6,
   "metadata": {},
   "outputs": [
    {
     "data": {
      "text/plain": [
       "(45349, 2)"
      ]
     },
     "execution_count": 6,
     "metadata": {},
     "output_type": "execute_result"
    }
   ],
   "source": [
    "df_movies.shape"
   ]
  },
  {
   "cell_type": "code",
   "execution_count": 7,
   "metadata": {},
   "outputs": [],
   "source": [
    "df_movies = df_movies.dropna().reset_index(drop=True)"
   ]
  },
  {
   "cell_type": "code",
   "execution_count": 8,
   "metadata": {},
   "outputs": [
    {
     "data": {
      "text/plain": [
       "(44408, 2)"
      ]
     },
     "execution_count": 8,
     "metadata": {},
     "output_type": "execute_result"
    }
   ],
   "source": [
    "df_movies.shape"
   ]
  },
  {
   "cell_type": "code",
   "execution_count": 9,
   "metadata": {},
   "outputs": [],
   "source": [
    "# Define el tamaño de cada subconjunto\n",
    "subset_size = 5551\n",
    "\n",
    "# Calcula la cantidad total de subconjuntos necesarios\n",
    "total_subsets = (len(df_movies) - 1) // subset_size + 1\n",
    "\n",
    "# Crea una lista para almacenar las matrices TF-IDF de cada subconjunto\n",
    "tfidf_matrices = []\n",
    "\n",
    "# Divide los datos en subconjuntos de 4425 filas y procesa cada subconjunto\n",
    "for i in range(total_subsets):\n",
    "    start_index = i * subset_size\n",
    "    end_index = min((i + 1) * subset_size, len(df_movies))\n",
    "    df_subset = df_movies[start_index:end_index].copy()\n",
    "    \n",
    "    # Si el subconjunto tiene al menos una fila, procede a calcular TF-IDF y similitudes\n",
    "    if len(df_subset) == subset_size:\n",
    "        # Crea la matriz TF-IDF para el subconjunto actual\n",
    "        stopwords_custom = nltk.corpus.stopwords.words('english')  # Agrega aquí stopwords personalizados\n",
    "        tfidf = TfidfVectorizer(stop_words=stopwords_custom)\n",
    "        tfidf_matrix = tfidf.fit_transform(df_subset['title'] + ' ' + df_subset['overview'])\n",
    "        \n",
    "        # Calcula las similitudes para el subconjunto actual\n",
    "        cosine_similarities = linear_kernel(tfidf_matrix, tfidf_matrix)\n",
    "        \n",
    "        # Agrega la matriz de similitudes a la lista de resultados\n",
    "        tfidf_matrices.append(cosine_similarities)\n",
    "\n",
    "# Concatena las matrices de similitudes de todos los subconjuntos en una sola matriz\n",
    "cosine_similarities_full = np.concatenate(tfidf_matrices)"
   ]
  },
  {
   "cell_type": "code",
   "execution_count": 10,
   "metadata": {},
   "outputs": [],
   "source": [
    "def recommendation(title):\n",
    "    # Verificar si el título está en el DataFrame\n",
    "    if title not in df_movies['title'].values:\n",
    "        return f\"No se encontró ninguna película con el título '{title}'.\"\n",
    "\n",
    "    # Obtener el índice de la película con el título dado\n",
    "    idx = df_movies[df_movies['title'] == title].index[0]\n",
    "\n",
    "    # Obtener las puntuaciones de similitud de todas las películas con la película dada\n",
    "    sim_scores = list(enumerate(cosine_similarities_full[idx]))\n",
    "\n",
    "    # Ordenar las películas por puntaje de similitud en orden descendente\n",
    "    sim_scores = sorted(sim_scores, key=lambda x: x[1], reverse=True)\n",
    "\n",
    "    # Obtener los índices de las películas más similares (excluyendo la película dada)\n",
    "    sim_scores = sim_scores[1:6]  # Obtener las 5 películas más similares\n",
    "    movie_indices = [x[0] for x in sim_scores]\n",
    "\n",
    "    # Obtener los títulos de las películas más similares\n",
    "    recommended_movies = df_movies['title'].iloc[movie_indices].tolist()\n",
    "\n",
    "    return recommended_movies"
   ]
  },
  {
   "cell_type": "code",
   "execution_count": 11,
   "metadata": {},
   "outputs": [
    {
     "name": "stdout",
     "output_type": "stream",
     "text": [
      "['Son of the Mask', 'Mask', 'Black Mask', 'Der Clown - Tag der Vergeltung', 'Halloween III: Season of the Witch']\n"
     ]
    }
   ],
   "source": [
    "# Esta es una muestra de como funciona en vivo\n",
    "movie_title = \"The Mask\"  # Ejemplo\n",
    "result = recommendation(movie_title)\n",
    "print(result)"
   ]
  },
  {
   "cell_type": "code",
   "execution_count": 12,
   "metadata": {},
   "outputs": [],
   "source": [
    "# Crear una lista para almacenar los resultados de recomendación en csv\n",
    "all_recommendations = []\n",
    "\n",
    "# Iterar a través de todas las películas en el DataFrame\n",
    "for idx, row in df_movies.iterrows():\n",
    "    movie_title = row['title']\n",
    "    recommendations = recommendation(movie_title)  # Obtener las recomendaciones\n",
    "    all_recommendations.append({\n",
    "        'movie_title': movie_title,\n",
    "        'recommended_movies': ', '.join(recommendations)\n",
    "    })\n",
    "\n",
    "# Crear un DataFrame a partir de la lista de recomendaciones\n",
    "recommendations_df = pd.DataFrame(all_recommendations)\n",
    "\n"
   ]
  },
  {
   "cell_type": "code",
   "execution_count": 13,
   "metadata": {},
   "outputs": [],
   "source": [
    "# Guardar el DataFrame en un archivo CSV\n",
    "recommendations_df.to_csv(\"..\\\\Data\\\\recomendaciones_peliculas.csv\", index=False)"
   ]
  },
  {
   "cell_type": "code",
   "execution_count": 15,
   "metadata": {},
   "outputs": [],
   "source": [
    "# Cargar el DataFrame precalculado desde el archivo CSV\n",
    "pre_recommendations = pd.read_csv(\"..\\\\Data\\\\recomendaciones_peliculas.csv\")\n",
    "\n",
    "def get_recommendations_for_title(title, pre_recommendations):\n",
    "    recommendations = pre_recommendations[pre_recommendations['movie_title'] == title]\n",
    "    if not recommendations.empty:\n",
    "        recommended_titles = recommendations.iloc[0]['recommended_movies']\n",
    "        return recommended_titles.split(', ')\n",
    "    else:\n",
    "        return [\"Película no encontrada en la Base de Datos.\"]"
   ]
  },
  {
   "cell_type": "code",
   "execution_count": 16,
   "metadata": {},
   "outputs": [
    {
     "name": "stdout",
     "output_type": "stream",
     "text": [
      "['Titanic', 'Pieces of April', 'Ghost Ship', 'The Legend of 1900', 'Flodder']\n"
     ]
    }
   ],
   "source": [
    "# Ejemplo de uso\n",
    "title_to_search = 'Titanic'\n",
    "recommended_titles = get_recommendations_for_title(title_to_search, pre_recommendations)\n",
    "print(recommended_titles)"
   ]
  }
 ],
 "metadata": {
  "kernelspec": {
   "display_name": "Python 3",
   "language": "python",
   "name": "python3"
  },
  "language_info": {
   "codemirror_mode": {
    "name": "ipython",
    "version": 3
   },
   "file_extension": ".py",
   "mimetype": "text/x-python",
   "name": "python",
   "nbconvert_exporter": "python",
   "pygments_lexer": "ipython3",
   "version": "3.11.0"
  },
  "orig_nbformat": 4
 },
 "nbformat": 4,
 "nbformat_minor": 2
}
